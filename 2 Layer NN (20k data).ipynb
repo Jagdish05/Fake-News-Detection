{
  "nbformat": 4,
  "nbformat_minor": 0,
  "metadata": {
    "colab": {
      "name": "2 Layer NN (20k data).ipynb",
      "provenance": [],
      "collapsed_sections": [],
      "authorship_tag": "ABX9TyMIqk3a3WDZVpiZksKUNeiN",
      "include_colab_link": true
    },
    "kernelspec": {
      "name": "python3",
      "display_name": "Python 3"
    },
    "language_info": {
      "name": "python"
    }
  },
  "cells": [
    {
      "cell_type": "markdown",
      "metadata": {
        "id": "view-in-github",
        "colab_type": "text"
      },
      "source": [
        "<a href=\"https://colab.research.google.com/github/Jagdish05/Fake-News-Detection/blob/main/2%20Layer%20NN%20(20k%20data).ipynb\" target=\"_parent\"><img src=\"https://colab.research.google.com/assets/colab-badge.svg\" alt=\"Open In Colab\"/></a>"
      ]
    },
    {
      "cell_type": "code",
      "metadata": {
        "id": "6kz79GnM4-LD"
      },
      "source": [
        "from pydrive.auth import GoogleAuth\n",
        "from pydrive.drive import GoogleDrive\n",
        "from google.colab import auth\n",
        "from oauth2client.client import GoogleCredentials\n",
        "\n",
        "auth.authenticate_user()\n",
        "gauth = GoogleAuth()\n",
        "gauth.credentials = GoogleCredentials.get_application_default()\n",
        "drive = GoogleDrive(gauth)"
      ],
      "execution_count": null,
      "outputs": []
    },
    {
      "cell_type": "markdown",
      "metadata": {
        "id": "9aXzw_CS6JwD"
      },
      "source": [
        "Data"
      ]
    },
    {
      "cell_type": "code",
      "metadata": {
        "id": "wrviGcI25Dd3"
      },
      "source": [
        "#downloaded = drive.CreateFile({'id':\"1lXpXmq7xjNxNptIY8dR0yCV6egkYCHVT\"}) \n",
        "#downloaded.GetContentFile('train.csv')\n",
        "\n",
        "import pandas as pd\n",
        "data = pd.read_csv('train.csv')\n",
        "data['title'] = data['title'].apply(lambda x: str(x))\n",
        "data['text'] = data['text'].apply(lambda x: str(x))\n",
        "data['article'] = data['title'] + ': ' + data['text']\n",
        "del data['title']\n",
        "del data['text']\n",
        "del data['id']\n",
        "del data['author']\n",
        "\n",
        "articles = data['article'].values\n",
        "y = data['label'].values\n",
        "\n",
        "from sklearn.model_selection import train_test_split\n",
        "articles_train, articles_test, y_train, y_test = train_test_split(articles, y, test_size=0.20, random_state=1000)"
      ],
      "execution_count": null,
      "outputs": []
    },
    {
      "cell_type": "markdown",
      "metadata": {
        "id": "EgA0098S78Ky"
      },
      "source": [
        "Vectorization"
      ]
    },
    {
      "cell_type": "code",
      "metadata": {
        "id": "_1UmpUIA8CQ4"
      },
      "source": [
        "from sklearn.feature_extraction.text import CountVectorizer\n",
        "\n",
        "vectorizer = CountVectorizer()\n",
        "vectorizer.fit(articles_train)\n",
        "\n",
        "X_train = vectorizer.transform(articles_train)\n",
        "X_test  = vectorizer.transform(articles_test)"
      ],
      "execution_count": null,
      "outputs": []
    },
    {
      "cell_type": "markdown",
      "metadata": {
        "id": "gOYgXdYU9vQi"
      },
      "source": [
        "Basic NN model"
      ]
    },
    {
      "cell_type": "code",
      "metadata": {
        "colab": {
          "base_uri": "https://localhost:8080/"
        },
        "id": "YP1Ps-Wo9yF9",
        "outputId": "c8cd3d00-48c7-44e7-a62f-68cdfb3e2864"
      },
      "source": [
        "from keras.models import Sequential\n",
        "from keras import layers\n",
        "\n",
        "input_dim = X_train.shape[1]  # Number of features\n",
        "\n",
        "model = Sequential()\n",
        "model.add(layers.Dense(10, input_dim=input_dim, activation='relu'))\n",
        "model.add(layers.Dense(1, activation='sigmoid'))\n",
        "\n",
        "model.compile(loss='binary_crossentropy', optimizer='adam', metrics=['accuracy'])\n",
        "model.summary()"
      ],
      "execution_count": null,
      "outputs": [
        {
          "output_type": "stream",
          "text": [
            "Model: \"sequential\"\n",
            "_________________________________________________________________\n",
            "Layer (type)                 Output Shape              Param #   \n",
            "=================================================================\n",
            "dense (Dense)                (None, 10)                1595830   \n",
            "_________________________________________________________________\n",
            "dense_1 (Dense)              (None, 1)                 11        \n",
            "=================================================================\n",
            "Total params: 1,595,841\n",
            "Trainable params: 1,595,841\n",
            "Non-trainable params: 0\n",
            "_________________________________________________________________\n"
          ],
          "name": "stdout"
        }
      ]
    },
    {
      "cell_type": "code",
      "metadata": {
        "colab": {
          "base_uri": "https://localhost:8080/"
        },
        "id": "re4b5uGQ94s2",
        "outputId": "0e7b9507-a646-4f17-8bf1-ada86a3a391a"
      },
      "source": [
        "history = model.fit(X_train, y_train, epochs=100, verbose=False, batch_size=10)\n",
        "\n",
        "loss, accuracy = model.evaluate(X_train, y_train, verbose=False)\n",
        "print(\"Training Accuracy: {:.4f}\".format(accuracy))\n",
        "loss, accuracy = model.evaluate(X_test, y_test, verbose=False)\n",
        "print(\"Testing Accuracy:  {:.4f}\".format(accuracy))"
      ],
      "execution_count": null,
      "outputs": [
        {
          "output_type": "stream",
          "text": [
            "Training Accuracy: 0.9999\n",
            "Testing Accuracy:  0.9656\n"
          ],
          "name": "stdout"
        }
      ]
    }
  ]
}