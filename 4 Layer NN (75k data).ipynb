{
  "nbformat": 4,
  "nbformat_minor": 0,
  "metadata": {
    "colab": {
      "name": "4 Layer NN (75k data).ipynb",
      "provenance": [],
      "authorship_tag": "ABX9TyMQlzHMJYprnTDObNi6tV6U",
      "include_colab_link": true
    },
    "kernelspec": {
      "display_name": "Python 3",
      "name": "python3"
    },
    "language_info": {
      "name": "python"
    }
  },
  "cells": [
    {
      "cell_type": "markdown",
      "metadata": {
        "id": "view-in-github",
        "colab_type": "text"
      },
      "source": [
        "<a href=\"https://colab.research.google.com/github/Jagdish05/Fake-News-Detection/blob/main/4%20Layer%20NN%20(75k%20data).ipynb\" target=\"_parent\"><img src=\"https://colab.research.google.com/assets/colab-badge.svg\" alt=\"Open In Colab\"/></a>"
      ]
    },
    {
      "cell_type": "code",
      "metadata": {
        "id": "ldcxdYJQ09oN"
      },
      "source": [
        "from pydrive.auth import GoogleAuth\n",
        "from pydrive.drive import GoogleDrive\n",
        "from google.colab import auth\n",
        "from oauth2client.client import GoogleCredentials\n",
        "\n",
        "auth.authenticate_user()\n",
        "gauth = GoogleAuth()\n",
        "gauth.credentials = GoogleCredentials.get_application_default()\n",
        "drive = GoogleDrive(gauth)"
      ],
      "execution_count": null,
      "outputs": []
    },
    {
      "cell_type": "code",
      "metadata": {
        "id": "N0vU_cQ21MaW"
      },
      "source": [
        "downloaded = drive.CreateFile({'id':\"1IZ46FJv_F1fT5bghALp2AgXAGFH8eca-\"})   # replace the id with id of file you want to access\n",
        "downloaded.GetContentFile('FinalTrainSet.csv')"
      ],
      "execution_count": null,
      "outputs": []
    },
    {
      "cell_type": "code",
      "metadata": {
        "id": "cgqh0Bhv3VV4"
      },
      "source": [
        "import pandas as pd\n",
        "data = pd.read_csv('FinalTrainSet.csv')\n",
        "del data['Unnamed: 0']\n",
        "\n",
        "data['Article'] = data['Headline'] + ': ' + data['Body']\n",
        "del data['Headline']\n",
        "del data['Body']\n",
        "del data['Headline Word Count']\n",
        "del data['Body Word Count']\n",
        "\n",
        "data['Stance'] = data['Stance'].replace({'agree': 1})\n",
        "data['Stance'] = data['Stance'].replace({'discuss': 1})\n",
        "data['Stance'] = data['Stance'].replace({'disagree': 0})\n",
        "data['Stance'] = data['Stance'].replace({'unrelated': 0})\n",
        "\n",
        "articles_train = data['Article'].values\n",
        "y_train = data['Stance'].values\n",
        "\n",
        "downloaded1 = drive.CreateFile({'id':\"1-tW5pvGu2uYgufcC9Lj8-hn2qU7wyxJP\"})   # replace the id with id of file you want to access\n",
        "downloaded1.GetContentFile('FinalTestSet.csv')\n",
        "\n",
        "import pandas as pd\n",
        "test = pd.read_csv('FinalTrainSet.csv')\n",
        "del test['Unnamed: 0']\n",
        "\n",
        "test['Article'] = test['Headline'] + ': ' + test['Body']\n",
        "del test['Headline']\n",
        "del test['Body']\n",
        "del test['Headline Word Count']\n",
        "del test['Body Word Count']\n",
        "\n",
        "test['Stance'] = test['Stance'].replace({'agree': 1})\n",
        "test['Stance'] = test['Stance'].replace({'discuss': 1})\n",
        "test['Stance'] = test['Stance'].replace({'disagree': 0})\n",
        "test['Stance'] = test['Stance'].replace({'unrelated': 0})\n",
        "\n",
        "articles_test = test['Article'].values\n",
        "y_test = test['Stance'].values"
      ],
      "execution_count": null,
      "outputs": []
    },
    {
      "cell_type": "code",
      "metadata": {
        "id": "Gn-MA7sS3bEb"
      },
      "source": [
        "from keras.preprocessing.text import Tokenizer\n",
        "\n",
        "tokenizer = Tokenizer(num_words=5000)\n",
        "tokenizer.fit_on_texts(articles_train)\n",
        "\n",
        "X_train = tokenizer.texts_to_sequences(articles_train)\n",
        "X_test = tokenizer.texts_to_sequences(articles_test)\n",
        "\n",
        "vocab_size = len(tokenizer.word_index) + 1  # Adding 1 because of reserved 0 index"
      ],
      "execution_count": null,
      "outputs": []
    },
    {
      "cell_type": "code",
      "metadata": {
        "id": "CCry-IA148bN"
      },
      "source": [
        "from keras.preprocessing.sequence import pad_sequences\n",
        "\n",
        "maxlen = 5000\n",
        "\n",
        "X_train = pad_sequences(X_train, padding='post', maxlen=maxlen)\n",
        "X_test = pad_sequences(X_test, padding='post', maxlen=maxlen)"
      ],
      "execution_count": null,
      "outputs": []
    },
    {
      "cell_type": "code",
      "metadata": {
        "colab": {
          "base_uri": "https://localhost:8080/"
        },
        "id": "61a54mdY5CeC",
        "outputId": "1326f986-49b5-4e92-8fdd-16e19ce3fa49"
      },
      "source": [
        "from keras.models import Sequential\n",
        "from keras import layers\n",
        "\n",
        "embedding_dim = 50\n",
        "\n",
        "model = Sequential()\n",
        "model.add(layers.Embedding(input_dim=vocab_size, output_dim=embedding_dim, input_length=maxlen))\n",
        "model.add(layers.GlobalMaxPool1D())\n",
        "model.add(layers.Dense(10, activation='relu'))\n",
        "model.add(layers.Dense(1, activation='sigmoid'))\n",
        "\n",
        "model.compile(optimizer='adam', loss='binary_crossentropy', metrics=['accuracy'])\n",
        "model.summary()"
      ],
      "execution_count": null,
      "outputs": [
        {
          "output_type": "stream",
          "text": [
            "Model: \"sequential\"\n",
            "_________________________________________________________________\n",
            "Layer (type)                 Output Shape              Param #   \n",
            "=================================================================\n",
            "embedding (Embedding)        (None, 5000, 50)          1473350   \n",
            "_________________________________________________________________\n",
            "global_max_pooling1d (Global (None, 50)                0         \n",
            "_________________________________________________________________\n",
            "dense (Dense)                (None, 10)                510       \n",
            "_________________________________________________________________\n",
            "dense_1 (Dense)              (None, 1)                 11        \n",
            "=================================================================\n",
            "Total params: 1,473,871\n",
            "Trainable params: 1,473,871\n",
            "Non-trainable params: 0\n",
            "_________________________________________________________________\n"
          ],
          "name": "stdout"
        }
      ]
    },
    {
      "cell_type": "code",
      "metadata": {
        "colab": {
          "background_save": true
        },
        "id": "z99I6xcu5Isq",
        "outputId": "beb6c786-2326-41e1-e6e1-170d3056bfb0"
      },
      "source": [
        "history = model.fit(X_train, y_train, epochs=20, verbose=False, batch_size=10)\n",
        "\n",
        "loss, accuracy = model.evaluate(X_train, y_train, verbose=False)\n",
        "print(\"Training Accuracy: {:.4f}\".format(accuracy))\n",
        "loss, accuracy = model.evaluate(X_test, y_test, verbose=False)\n",
        "print(\"Testing Accuracy:  {:.4f}\".format(accuracy))"
      ],
      "execution_count": null,
      "outputs": [
        {
          "output_type": "stream",
          "text": [
            "Training Accuracy: 0.9817\n",
            "Testing Accuracy:  0.9817\n"
          ],
          "name": "stdout"
        }
      ]
    }
  ]
}