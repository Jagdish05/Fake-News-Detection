{
  "nbformat": 4,
  "nbformat_minor": 0,
  "metadata": {
    "colab": {
      "name": "2 Layer NN (75k data).ipynb",
      "provenance": [],
      "authorship_tag": "ABX9TyNzg7bBeBe8gUXArVS9GCVA",
      "include_colab_link": true
    },
    "kernelspec": {
      "name": "python3",
      "display_name": "Python 3"
    },
    "language_info": {
      "name": "python"
    }
  },
  "cells": [
    {
      "cell_type": "markdown",
      "metadata": {
        "id": "view-in-github",
        "colab_type": "text"
      },
      "source": [
        "<a href=\"https://colab.research.google.com/github/Jagdish05/Fake-News-Detection/blob/main/2%20Layer%20NN%20(75k%20data).ipynb\" target=\"_parent\"><img src=\"https://colab.research.google.com/assets/colab-badge.svg\" alt=\"Open In Colab\"/></a>"
      ]
    },
    {
      "cell_type": "code",
      "metadata": {
        "id": "_DEX9bMtqWaw"
      },
      "source": [
        "from pydrive.auth import GoogleAuth\n",
        "from pydrive.drive import GoogleDrive\n",
        "from google.colab import auth\n",
        "from oauth2client.client import GoogleCredentials\n",
        "\n",
        "auth.authenticate_user()\n",
        "gauth = GoogleAuth()\n",
        "gauth.credentials = GoogleCredentials.get_application_default()\n",
        "drive = GoogleDrive(gauth)"
      ],
      "execution_count": null,
      "outputs": []
    },
    {
      "cell_type": "code",
      "metadata": {
        "id": "mLPMfKsQrbOk"
      },
      "source": [
        "downloaded = drive.CreateFile({'id':\"1IZ46FJv_F1fT5bghALp2AgXAGFH8eca-\"})   # replace the id with id of file you want to access\n",
        "downloaded.GetContentFile('FinalTrainSet.csv')"
      ],
      "execution_count": null,
      "outputs": []
    },
    {
      "cell_type": "code",
      "metadata": {
        "id": "-PViRVOuvVD4"
      },
      "source": [
        "import pandas as pd\n",
        "data = pd.read_csv('FinalTrainSet.csv')\n",
        "del data['Unnamed: 0']\n",
        "\n",
        "data['Article'] = data['Headline'] + ': ' + data['Body']\n",
        "del data['Headline']\n",
        "del data['Body']\n",
        "del data['Headline Word Count']\n",
        "del data['Body Word Count']\n",
        "\n",
        "data['Stance'] = data['Stance'].replace({'agree': 1})\n",
        "data['Stance'] = data['Stance'].replace({'discuss': 1})\n",
        "data['Stance'] = data['Stance'].replace({'disagree': 0})\n",
        "data['Stance'] = data['Stance'].replace({'unrelated': 0})\n",
        "\n",
        "articles_train = data['Article'].values\n",
        "y_train = data['Stance'].values\n",
        "\n",
        "downloaded1 = drive.CreateFile({'id':\"1-tW5pvGu2uYgufcC9Lj8-hn2qU7wyxJP\"})   # replace the id with id of file you want to access\n",
        "downloaded1.GetContentFile('FinalTestSet.csv')\n",
        "\n",
        "import pandas as pd\n",
        "test = pd.read_csv('FinalTrainSet.csv')\n",
        "del test['Unnamed: 0']\n",
        "\n",
        "test['Article'] = test['Headline'] + ': ' + test['Body']\n",
        "del test['Headline']\n",
        "del test['Body']\n",
        "del test['Headline Word Count']\n",
        "del test['Body Word Count']\n",
        "\n",
        "test['Stance'] = test['Stance'].replace({'agree': 1})\n",
        "test['Stance'] = test['Stance'].replace({'discuss': 1})\n",
        "test['Stance'] = test['Stance'].replace({'disagree': 0})\n",
        "test['Stance'] = test['Stance'].replace({'unrelated': 0})\n",
        "\n",
        "articles_test = test['Article'].values\n",
        "y_test = test['Stance'].values\n",
        "\n",
        "from sklearn.feature_extraction.text import CountVectorizer\n",
        "\n",
        "vectorizer = CountVectorizer()\n",
        "vectorizer.fit(articles_train)\n",
        "\n",
        "X_train = vectorizer.transform(articles_train)\n",
        "X_test = vectorizer.transform(articles_test)"
      ],
      "execution_count": null,
      "outputs": []
    },
    {
      "cell_type": "code",
      "metadata": {
        "colab": {
          "base_uri": "https://localhost:8080/"
        },
        "id": "BST0cEVzxP_8",
        "outputId": "5100e4eb-335e-4946-9638-20cda231550a"
      },
      "source": [
        "from keras.models import Sequential\n",
        "from keras import layers\n",
        "\n",
        "input_dim = X_train.shape[1]  # Number of features\n",
        "\n",
        "model = Sequential()\n",
        "model.add(layers.Dense(10, input_dim=input_dim, activation='relu'))\n",
        "model.add(layers.Dense(1, activation='sigmoid'))\n",
        "\n",
        "model.compile(loss='binary_crossentropy', optimizer='adam', metrics=['accuracy'])\n",
        "model.summary()"
      ],
      "execution_count": null,
      "outputs": [
        {
          "output_type": "stream",
          "text": [
            "Model: \"sequential_1\"\n",
            "_________________________________________________________________\n",
            "Layer (type)                 Output Shape              Param #   \n",
            "=================================================================\n",
            "dense_2 (Dense)              (None, 10)                248440    \n",
            "_________________________________________________________________\n",
            "dense_3 (Dense)              (None, 1)                 11        \n",
            "=================================================================\n",
            "Total params: 248,451\n",
            "Trainable params: 248,451\n",
            "Non-trainable params: 0\n",
            "_________________________________________________________________\n"
          ],
          "name": "stdout"
        }
      ]
    },
    {
      "cell_type": "code",
      "metadata": {
        "colab": {
          "base_uri": "https://localhost:8080/"
        },
        "id": "8iHQHK7oxTK7",
        "outputId": "30f5fbcd-169d-4a95-f106-fffe3ef60a47"
      },
      "source": [
        "history = model.fit(X_train, y_train, epochs=100, verbose=False, batch_size=10)\n",
        "\n",
        "loss, accuracy = model.evaluate(X_train, y_train, verbose=False)\n",
        "print(\"Training Accuracy: {:.4f}\".format(accuracy))\n",
        "loss, accuracy = model.evaluate(X_test, y_test, verbose=False)\n",
        "print(\"Testing Accuracy:  {:.4f}\".format(accuracy))"
      ],
      "execution_count": null,
      "outputs": [
        {
          "output_type": "stream",
          "text": [
            "Training Accuracy: 0.8941\n",
            "Testing Accuracy:  0.8606\n"
          ],
          "name": "stdout"
        }
      ]
    }
  ]
}