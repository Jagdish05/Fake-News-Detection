{
  "nbformat": 4,
  "nbformat_minor": 0,
  "metadata": {
    "colab": {
      "name": "Final CNN Model.ipynb",
      "provenance": [],
      "authorship_tag": "ABX9TyN+pQXHiAokO/RLHcdU0ogG",
      "include_colab_link": true
    },
    "kernelspec": {
      "name": "python3",
      "display_name": "Python 3"
    },
    "language_info": {
      "name": "python"
    }
  },
  "cells": [
    {
      "cell_type": "markdown",
      "metadata": {
        "id": "view-in-github",
        "colab_type": "text"
      },
      "source": [
        "<a href=\"https://colab.research.google.com/github/Jagdish05/Fake-News-Detection/blob/main/Final_CNN_Model.ipynb\" target=\"_parent\"><img src=\"https://colab.research.google.com/assets/colab-badge.svg\" alt=\"Open In Colab\"/></a>"
      ]
    },
    {
      "cell_type": "code",
      "metadata": {
        "id": "CsEjHtPm-7_F"
      },
      "source": [
        "from pydrive.auth import GoogleAuth\n",
        "from pydrive.drive import GoogleDrive\n",
        "from google.colab import auth\n",
        "from oauth2client.client import GoogleCredentials\n",
        "\n",
        "auth.authenticate_user()\n",
        "gauth = GoogleAuth()\n",
        "gauth.credentials = GoogleCredentials.get_application_default()\n",
        "drive = GoogleDrive(gauth)"
      ],
      "execution_count": 43,
      "outputs": []
    },
    {
      "cell_type": "markdown",
      "metadata": {
        "id": "WYIS_pKF_FGZ"
      },
      "source": [
        "Data"
      ]
    },
    {
      "cell_type": "code",
      "metadata": {
        "id": "y5h3r9t0_Fw_"
      },
      "source": [
        "downloaded = drive.CreateFile({'id':\"1lXpXmq7xjNxNptIY8dR0yCV6egkYCHVT\"}) \n",
        "downloaded.GetContentFile('train.csv')\n",
        "\n",
        "import pandas as pd\n",
        "data = pd.read_csv('train.csv')\n",
        "data['title'] = data['title'].apply(lambda x: str(x))\n",
        "data['text'] = data['text'].apply(lambda x: str(x))\n",
        "data['article'] = data['title'] + ': ' + data['text']\n",
        "del data['title']\n",
        "del data['text']\n",
        "del data['id']\n",
        "del data['author']\n",
        "\n",
        "# Removing punctuation\n",
        "data['article'] = data['article'].str.replace('[^\\w\\s]','')\n",
        "# Lower Casing\n",
        "data['article'] = data['article'].apply(lambda x: \" \".join(x.lower() for x in x.split()))\n",
        "# Removing stopwords.\n",
        "from nltk.corpus import stopwords\n",
        "import nltk\n",
        "stop = stopwords.words('english')\n",
        "data['article'] = data['article'].apply(lambda x: \" \".join(x for x in x.split() if x not in stop))\n",
        "# Lemmatization\n",
        "from textblob import Word\n",
        "data['article'] = data['article'].apply(lambda x: \" \".join([Word(word).lemmatize() for word in x.split()]))\n",
        "# Stemming\n",
        "from nltk.stem import PorterStemmer\n",
        "st = PorterStemmer()\n",
        "data['article'] = data['article'].apply(lambda x: \" \".join([st.stem(word) for word in x.split()]))\n",
        "\n",
        "articles = data['article'].values\n",
        "y = data['label'].values\n",
        "\n",
        "from sklearn.model_selection import train_test_split\n",
        "articles_train, articles_test, y_train, y_test = train_test_split(articles, y, test_size=0.20, random_state=1000)"
      ],
      "execution_count": null,
      "outputs": []
    },
    {
      "cell_type": "markdown",
      "metadata": {
        "id": "BDAd4SQ4_I7S"
      },
      "source": [
        "Tokenization"
      ]
    },
    {
      "cell_type": "code",
      "metadata": {
        "id": "BFIxBWGh_NWe"
      },
      "source": [
        "from keras.preprocessing.text import Tokenizer\n",
        "\n",
        "tokenizer = Tokenizer(num_words=5000)\n",
        "tokenizer.fit_on_texts(articles_train)\n",
        "\n",
        "X_train = tokenizer.texts_to_sequences(articles_train)\n",
        "X_test = tokenizer.texts_to_sequences(articles_test)\n",
        "\n",
        "vocab_size = len(tokenizer.word_index) + 1  # Adding 1 because of reserved 0 index\n",
        "\n",
        "from keras.preprocessing.sequence import pad_sequences\n",
        "\n",
        "maxlen = 5000\n",
        "\n",
        "X_train = pad_sequences(X_train, padding='post', maxlen=maxlen)\n",
        "X_test = pad_sequences(X_test, padding='post', maxlen=maxlen)"
      ],
      "execution_count": null,
      "outputs": []
    },
    {
      "cell_type": "markdown",
      "metadata": {
        "id": "8tgZ6J3d_RRP"
      },
      "source": [
        "CNN model\n",
        "\n"
      ]
    },
    {
      "cell_type": "code",
      "metadata": {
        "colab": {
          "base_uri": "https://localhost:8080/"
        },
        "id": "5ebmlA6p_S5f",
        "outputId": "a74e7bd9-9e77-447e-a75f-50b1d63c6859"
      },
      "source": [
        "from keras.models import Sequential\n",
        "from keras import layers\n",
        "\n",
        "embedding_dim = 50\n",
        "\n",
        "model = Sequential()\n",
        "model.add(layers.Embedding(input_dim=vocab_size, output_dim=embedding_dim, input_length=maxlen))\n",
        "model.add(layers.Conv1D(128, 5, activation='relu'))\n",
        "model.add(layers.GlobalMaxPool1D())\n",
        "model.add(layers.Dense(10, activation='relu'))\n",
        "model.add(layers.Dense(1, activation='sigmoid'))\n",
        "\n",
        "model.compile(optimizer='adam', loss='binary_crossentropy', metrics=['accuracy'])\n",
        "model.summary()"
      ],
      "execution_count": null,
      "outputs": [
        {
          "output_type": "stream",
          "text": [
            "Model: \"sequential\"\n",
            "_________________________________________________________________\n",
            "Layer (type)                 Output Shape              Param #   \n",
            "=================================================================\n",
            "embedding (Embedding)        (None, 5000, 50)          7344100   \n",
            "_________________________________________________________________\n",
            "conv1d (Conv1D)              (None, 4996, 128)         32128     \n",
            "_________________________________________________________________\n",
            "global_max_pooling1d (Global (None, 128)               0         \n",
            "_________________________________________________________________\n",
            "dense (Dense)                (None, 10)                1290      \n",
            "_________________________________________________________________\n",
            "dense_1 (Dense)              (None, 1)                 11        \n",
            "=================================================================\n",
            "Total params: 7,377,529\n",
            "Trainable params: 7,377,529\n",
            "Non-trainable params: 0\n",
            "_________________________________________________________________\n"
          ],
          "name": "stdout"
        }
      ]
    },
    {
      "cell_type": "code",
      "metadata": {
        "colab": {
          "base_uri": "https://localhost:8080/"
        },
        "id": "xchsra7t_cIL",
        "outputId": "75155400-e69b-4f19-cf99-a88aeb595b1a"
      },
      "source": [
        "history = model.fit(X_train, y_train, epochs=20, verbose=False, batch_size=10)\n",
        "\n",
        "loss, accuracy = model.evaluate(X_train, y_train, verbose=False)\n",
        "print(\"Training Accuracy: {:.4f}\".format(accuracy))\n",
        "loss, accuracy = model.evaluate(X_test, y_test, verbose=False)\n",
        "print(\"Testing Accuracy:  {:.4f}\".format(accuracy))"
      ],
      "execution_count": null,
      "outputs": [
        {
          "output_type": "stream",
          "text": [
            "Training Accuracy: 1.0000\n",
            "Testing Accuracy:  0.9803\n"
          ],
          "name": "stdout"
        }
      ]
    },
    {
      "cell_type": "markdown",
      "metadata": {
        "id": "iEiUO7-faeGs"
      },
      "source": [
        "Saving Model To and Loading Model From JSON"
      ]
    },
    {
      "cell_type": "code",
      "metadata": {
        "colab": {
          "base_uri": "https://localhost:8080/"
        },
        "id": "Mh5LLSiRqttv",
        "outputId": "6deb079a-1b6a-48d0-a731-825256b5adf2"
      },
      "source": [
        "# serialize model to JSON\n",
        "model_json = model.to_json()\n",
        "with open(\"/content/drive/My Drive/final_model.json\", \"w\") as json_file:\n",
        "    json_file.write(model_json)\n",
        "# serialize weights to HDF5\n",
        "model.save_weights(\"/content/drive/My Drive/final_model.h5\")\n",
        "print(\"Saved model to disk\")"
      ],
      "execution_count": null,
      "outputs": [
        {
          "output_type": "stream",
          "text": [
            "Saved model to disk\n"
          ],
          "name": "stdout"
        }
      ]
    },
    {
      "cell_type": "code",
      "metadata": {
        "colab": {
          "base_uri": "https://localhost:8080/"
        },
        "id": "83-tz0fuo0ap",
        "outputId": "681ba49c-9fb9-425a-b37a-975c22ca5001"
      },
      "source": [
        "from keras.models import model_from_json\n",
        "\n",
        "# load json and create model\n",
        "json_file = open(\"/content/drive/My Drive/final_model.json\", 'r')\n",
        "loaded_model_json = json_file.read()\n",
        "json_file.close()\n",
        "loaded_model = model_from_json(loaded_model_json)\n",
        "# load weights into new model\n",
        "loaded_model.load_weights(\"/content/drive/My Drive/final_model.h5\")\n",
        "print(\"Loaded model from disk\")"
      ],
      "execution_count": null,
      "outputs": [
        {
          "output_type": "stream",
          "text": [
            "Loaded model from disk\n"
          ],
          "name": "stdout"
        }
      ]
    },
    {
      "cell_type": "markdown",
      "metadata": {
        "id": "mtgy7vJIamas"
      },
      "source": [
        "Testing With Data Collected From Google"
      ]
    },
    {
      "cell_type": "code",
      "metadata": {
        "id": "4-qWL705jmzP"
      },
      "source": [
        "downloaded1 = drive.CreateFile({'id':\"1-yz6aai5IBl7F0WD5C6_OSAywlYUsBFQ\"}) \n",
        "downloaded1.GetContentFile('google news.csv')\n",
        "\n",
        "import pandas as pd\n",
        "google_data = pd.read_csv('google news.csv', sep=\";\", encoding='cp1252')\n",
        "google_data['title'] = google_data['title'].apply(lambda x: str(x))\n",
        "google_data['text'] = google_data['text'].apply(lambda x: str(x))\n",
        "google_data['article'] = google_data['title'] + ': ' + google_data['text']\n",
        "del data['title']\n",
        "del data['text']\n",
        "\n",
        "# Removing punctuation\n",
        "google_data['article'] = google_data['article'].str.replace('[^\\w\\s]','')\n",
        "# Lower Casing\n",
        "google_data['article'] = google_data['article'].apply(lambda x: \" \".join(x.lower() for x in x.split()))\n",
        "# Removing stopwords.\n",
        "google_data['article'] = google_data['article'].apply(lambda x: \" \".join(x for x in x.split() if x not in stop))\n",
        "# Lemmatization\n",
        "google_data['article'] = google_data['article'].apply(lambda x: \" \".join([Word(word).lemmatize() for word in x.split()]))\n",
        "# Stemming\n",
        "google_data['article'] = google_data['article'].apply(lambda x: \" \".join([st.stem(word) for word in x.split()]))\n",
        "\n",
        "google_data['label'] = [0, 0, 0, 0, 0, 0, 0, 0, 0, 0, 0, 0, 0, 0]\n",
        "\n",
        "google_articles= google_data['article'].values\n",
        "google_y = google_data['label'].values"
      ],
      "execution_count": 54,
      "outputs": []
    },
    {
      "cell_type": "code",
      "metadata": {
        "id": "917aWz_CWXJp",
        "colab": {
          "base_uri": "https://localhost:8080/"
        },
        "outputId": "45a8a196-6d04-42b6-8afd-d2c7ed25ee8c"
      },
      "source": [
        "google_articles = tokenizer.texts_to_sequences(google_articles)\n",
        "google_articles = pad_sequences(google_articles, padding='post', maxlen=maxlen)\n",
        "loaded_model.predict_classes(google_articles)"
      ],
      "execution_count": 55,
      "outputs": [
        {
          "output_type": "stream",
          "text": [
            "/usr/local/lib/python3.7/dist-packages/tensorflow/python/keras/engine/sequential.py:450: UserWarning: `model.predict_classes()` is deprecated and will be removed after 2021-01-01. Please use instead:* `np.argmax(model.predict(x), axis=-1)`,   if your model does multi-class classification   (e.g. if it uses a `softmax` last-layer activation).* `(model.predict(x) > 0.5).astype(\"int32\")`,   if your model does binary classification   (e.g. if it uses a `sigmoid` last-layer activation).\n",
            "  warnings.warn('`model.predict_classes()` is deprecated and '\n"
          ],
          "name": "stderr"
        },
        {
          "output_type": "execute_result",
          "data": {
            "text/plain": [
              "array([[0],\n",
              "       [0],\n",
              "       [1],\n",
              "       [1],\n",
              "       [1],\n",
              "       [1],\n",
              "       [1],\n",
              "       [1],\n",
              "       [0],\n",
              "       [1],\n",
              "       [1],\n",
              "       [1],\n",
              "       [1],\n",
              "       [0]], dtype=int32)"
            ]
          },
          "metadata": {
            "tags": []
          },
          "execution_count": 55
        }
      ]
    }
  ]
}