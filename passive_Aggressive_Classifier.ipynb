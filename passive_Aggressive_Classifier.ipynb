{
 "cells": [
  {
   "cell_type": "code",
   "execution_count": null,
   "metadata": {},
   "outputs": [],
   "source": [
    "# !pip install numpy pandas sklearn\n",
    "# !pip install nltk"
   ]
  },
  {
   "cell_type": "code",
   "execution_count": 34,
   "metadata": {},
   "outputs": [],
   "source": [
    "import numpy as np\n",
    "import pandas as pd\n",
    "import itertools\n",
    "import pickle\n",
    "import seaborn as sns\n",
    "from sklearn import metrics\n",
    "from sklearn.model_selection import train_test_split\n",
    "from sklearn.feature_extraction.text import TfidfVectorizer\n",
    "from sklearn.linear_model import PassiveAggressiveClassifier\n",
    "from sklearn.metrics import accuracy_score, confusion_matrix, classification_report"
   ]
  },
  {
   "cell_type": "markdown",
   "metadata": {},
   "source": [
    "# Dataset 7K"
   ]
  },
  {
   "cell_type": "code",
   "execution_count": 39,
   "metadata": {},
   "outputs": [
    {
     "name": "stdout",
     "output_type": "stream",
     "text": [
      "Fake data  3164\n",
      "Real data  3171\n"
     ]
    }
   ],
   "source": [
    "#Read the data\n",
    "df_train=pd.read_csv('news.csv')\n",
    "# df_train=pd.read_csv('Data/train.csv')  #Best Result using this dataset\n",
    "\n",
    "\n",
    "\n",
    "#Get shape and head\n",
    "df_train.shape\n",
    "df_train.head()\n",
    "\n",
    "df_train.loc[(df_train['label'] == 1) , ['label']] = 'FAKE'\n",
    "df_train.loc[(df_train['label'] == 0) , ['label']] = 'REAL'\n",
    "print(\"Fake data \",len(df_train[df_train['label']=='FAKE']))\n",
    "print(\"Real data \",len(df_train[df_train['label']=='REAL']))"
   ]
  },
  {
   "cell_type": "markdown",
   "metadata": {},
   "source": [
    "# Dataset 20K"
   ]
  },
  {
   "cell_type": "code",
   "execution_count": 45,
   "metadata": {},
   "outputs": [
    {
     "name": "stdout",
     "output_type": "stream",
     "text": [
      "Fake data  10413\n",
      "Real data  10387\n"
     ]
    }
   ],
   "source": [
    "#Read the data\n",
    "# df_train=pd.read_csv('news.csv')\n",
    "df_train=pd.read_csv('Data/train.csv')  #Best Result using this dataset\n",
    "\n",
    "df_train.shape\n",
    "df_train.head()\n",
    "\n",
    "df_train.loc[(df_train['label'] == 1) , ['label']] = 'FAKE'\n",
    "df_train.loc[(df_train['label'] == 0) , ['label']] = 'REAL'\n",
    "print(\"Fake data \",len(df_train[df_train['label']=='FAKE']))\n",
    "print(\"Real data \",len(df_train[df_train['label']=='REAL']))\n"
   ]
  },
  {
   "cell_type": "markdown",
   "metadata": {},
   "source": [
    "# Dataset 75K"
   ]
  },
  {
   "cell_type": "code",
   "execution_count": 44,
   "metadata": {
    "code_folding": []
   },
   "outputs": [
    {
     "name": "stdout",
     "output_type": "stream",
     "text": [
      "Fake data  37043\n",
      "Real data  36969\n"
     ]
    }
   ],
   "source": [
    "#Read the data\n",
    "df_test=pd.read_csv('news.csv')\n",
    "df_train=pd.read_csv('Data/combined_news_data_processed.csv')  #Best Result using this dataset\n",
    "\n",
    "\n",
    "\n",
    "#Get shape and head\n",
    "df_train.shape\n",
    "df_train.head()\n",
    "\n",
    "# df_train.shape\n",
    "# print(len(df_train))\n",
    "# df_test=pd.DataFrame(df_test)\n",
    "\n",
    "# data = df_train\n",
    "\n",
    "df_train.loc[(df_train['label'] == 0) , ['label']] = 'FAKE'\n",
    "df_train.loc[(df_train['label'] == 1) , ['label']] = 'REAL'\n",
    "print(\"Fake data \",len(df_train[df_train['label']=='FAKE']))\n",
    "print(\"Real data \",len(df_train[df_train['label']=='REAL']))"
   ]
  },
  {
   "cell_type": "code",
   "execution_count": 46,
   "metadata": {},
   "outputs": [
    {
     "data": {
      "text/plain": [
       "0    FAKE\n",
       "1    REAL\n",
       "2    FAKE\n",
       "3    FAKE\n",
       "4    FAKE\n",
       "Name: label, dtype: object"
      ]
     },
     "execution_count": 46,
     "metadata": {},
     "output_type": "execute_result"
    }
   ],
   "source": [
    "# - Get the labels\n",
    "labels=df_train.label\n",
    "labels.head()"
   ]
  },
  {
   "cell_type": "code",
   "execution_count": 47,
   "metadata": {},
   "outputs": [],
   "source": [
    "# - Split the dataset\n",
    "x_train,x_test,y_train,y_test=train_test_split(df_train['text'].values.astype('str'), labels, test_size=0.20,random_state=6)\n",
    "# x_train,x_test,y_train,y_test=train_test_split(df_test['Body'], labels, test_size=0.2, random_state=7)\n",
    "\n",
    "# print(len(x_train),len(x_test))\n"
   ]
  },
  {
   "cell_type": "markdown",
   "metadata": {},
   "source": [
    "# Lemmatizer"
   ]
  },
  {
   "cell_type": "code",
   "execution_count": 48,
   "metadata": {},
   "outputs": [],
   "source": [
    "import nltk\n",
    "from nltk.stem import WordNetLemmatizer\n",
    "from nltk import word_tokenize          \n",
    "nltk.download('punkt')\n",
    "nltk.download('wordnet')\n",
    "class LemmaTokenizer:\n",
    "    ignore_tokens = [',', '.', ';', ':', '\"', '``', \"''\", '`']\n",
    "    def __init__(self):\n",
    "        self.wnl = WordNetLemmatizer()\n",
    "    def __call__(self, doc):\n",
    "        return [self.wnl.lemmatize(t) for t in word_tokenize(doc) if t not in self.ignore_tokens]"
   ]
  },
  {
   "cell_type": "code",
   "execution_count": 49,
   "metadata": {},
   "outputs": [],
   "source": [
    "# - Initialize a TfidfVectorizer\n",
    "tokenizer=LemmaTokenizer()\n",
    "\n",
    "tfidf_vectorizer=TfidfVectorizer(stop_words='english', max_df=0.7)\n",
    "\n",
    "# - Fit and transform train set, transform test set\n",
    "tfidf_train=tfidf_vectorizer.fit_transform(x_train) \n",
    "\n",
    "tfidf_test=tfidf_vectorizer.transform(x_test)\n"
   ]
  },
  {
   "cell_type": "code",
   "execution_count": 50,
   "metadata": {},
   "outputs": [
    {
     "name": "stdout",
     "output_type": "stream",
     "text": [
      "Accuracy: 96.61%\n"
     ]
    }
   ],
   "source": [
    "# - Initialize a PassiveAggressiveClassifier\n",
    "LR_Model=PassiveAggressiveClassifier(max_iter=50)\n",
    "LR_Model.fit(tfidf_train,y_train)\n",
    "\n",
    "# - Predict on the test set and calculate accuracy\n",
    "\n",
    "# pac.save(\"model\")\n",
    "y_pred=LR_Model.predict(tfidf_test)\n",
    "score=accuracy_score(y_test,y_pred)\n",
    "print(f'Accuracy: {round(score*100,2)}%')"
   ]
  },
  {
   "cell_type": "markdown",
   "metadata": {},
   "source": [
    "# Model save"
   ]
  },
  {
   "cell_type": "code",
   "execution_count": 51,
   "metadata": {
    "code_folding": []
   },
   "outputs": [
    {
     "name": "stdout",
     "output_type": "stream",
     "text": [
      "Pickle_RL_Model.pkl\n"
     ]
    }
   ],
   "source": [
    "Pkl_Filename = \"Pickle_RL_Model.pkl\"  \n",
    "\n",
    "with open(Pkl_Filename, 'wb') as file:  \n",
    "    pickle.dump(LR_Model, file)\n",
    "    \n",
    "pickle.dump(tfidf_vectorizer, open(\"vectorizer.pickle\", \"wb\"))\n",
    "print(Pkl_Filename)"
   ]
  },
  {
   "cell_type": "markdown",
   "metadata": {},
   "source": [
    "# Load Model"
   ]
  },
  {
   "cell_type": "code",
   "execution_count": 52,
   "metadata": {
    "code_folding": []
   },
   "outputs": [
    {
     "name": "stdout",
     "output_type": "stream",
     "text": [
      "['REAL']\n"
     ]
    }
   ],
   "source": [
    "# Load the Model back from file\n",
    "Pkl_Filename = \"Pickle_RL_Model.pkl\"  \n",
    "\n",
    "\n",
    "with open(Pkl_Filename, 'rb') as file:  \n",
    "    Pickled_LR_Model = pickle.load(file)\n",
    "\n",
    "# Pickled_LR_Model\n",
    "vectorizer = pickle.load(open(\"vectorizer.pickle\", 'rb'))\n",
    "# vectorizer\n",
    "f = open(\"demofile.txt\", \"r\")\n",
    "# print(f.read())\n",
    "tfidf_test_one=vectorizer.transform([f.read()])\n",
    "new_predit=Pickled_LR_Model.predict(tfidf_test_one)\n",
    "\n",
    "print(new_predit)"
   ]
  },
  {
   "cell_type": "code",
   "execution_count": 53,
   "metadata": {},
   "outputs": [
    {
     "name": "stdout",
     "output_type": "stream",
     "text": [
      "Accuracy: 96.61%\n"
     ]
    }
   ],
   "source": [
    "y_pred=Pickled_LR_Model.predict(tfidf_test)\n",
    "score=accuracy_score(y_test,y_pred)\n",
    "print(f'Accuracy: {round(score*100,2)}%')"
   ]
  },
  {
   "cell_type": "code",
   "execution_count": 54,
   "metadata": {},
   "outputs": [
    {
     "data": {
      "text/plain": [
       "<matplotlib.axes._subplots.AxesSubplot at 0x7ffabe755790>"
      ]
     },
     "execution_count": 54,
     "metadata": {},
     "output_type": "execute_result"
    },
    {
     "data": {
      "image/png": "[encoded data removed]",
      "text/plain": [
       "<Figure size 432x288 with 2 Axes>"
      ]
     },
     "metadata": {
      "needs_background": "light"
     },
     "output_type": "display_data"
    }
   ],
   "source": [
    "cm = metrics.confusion_matrix(y_test,y_pred)\n",
    "df_cm = pd.DataFrame(cm, index = [i for i in [\"REAL\",'FAKE']],\n",
    "                  columns = [i for i in [\"REAL\",'FAKE']])\n",
    "sns.heatmap(df_cm, annot=True,fmt=\"2g\")"
   ]
  },
  {
   "cell_type": "code",
   "execution_count": 55,
   "metadata": {},
   "outputs": [
    {
     "name": "stdout",
     "output_type": "stream",
     "text": [
      "Classification Report : \n",
      "\n",
      "              precision    recall  f1-score   support\n",
      "\n",
      "        FAKE       0.96      0.97      0.97      2071\n",
      "        REAL       0.97      0.96      0.97      2089\n",
      "\n",
      "    accuracy                           0.97      4160\n",
      "   macro avg       0.97      0.97      0.97      4160\n",
      "weighted avg       0.97      0.97      0.97      4160\n",
      "\n"
     ]
    }
   ],
   "source": [
    "print(f\"Classification Report : \\n\\n{classification_report(y_test, y_pred)}\")"
   ]
  },
  {
   "cell_type": "code",
   "execution_count": 56,
   "metadata": {},
   "outputs": [
    {
     "name": "stdout",
     "output_type": "stream",
     "text": [
      "['REAL']\n"
     ]
    }
   ],
   "source": [
    "f = open(\"demofile.txt\", \"r\")\n",
    "# print(f.read())\n",
    "tfidf_test_one=tfidf_vectorizer.transform([f.read()])\n",
    "new_predit=LR_Model.predict(tfidf_test_one)\n",
    "\n",
    "print(new_predit)"
   ]
  }
 ],
 "metadata": {
  "kernelspec": {
   "display_name": "Python 3",
   "language": "python",
   "name": "python3"
  },
  "language_info": {
   "codemirror_mode": {
    "name": "ipython",
    "version": 3
   },
   "file_extension": ".py",
   "mimetype": "text/x-python",
   "name": "python",
   "nbconvert_exporter": "python",
   "pygments_lexer": "ipython3",
   "version": "3.7.6"
  }
 },
 "nbformat": 4,
 "nbformat_minor": 4
}
